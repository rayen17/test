{
  "nbformat": 4,
  "nbformat_minor": 0,
  "metadata": {
    "colab": {
      "provenance": []
    },
    "kernelspec": {
      "name": "python3",
      "display_name": "Python 3"
    },
    "language_info": {
      "name": "python"
    }
  },
  "cells": [
    {
      "cell_type": "markdown",
      "source": [
        "*Partiel* Regression"
      ],
      "metadata": {
        "id": "a3CDivEnpvzS"
      }
    },
    {
      "cell_type": "markdown",
      "source": [
        "## Exercice 1 "
      ],
      "metadata": {
        "id": "L-oAur-c7eNp"
      }
    },
    {
      "cell_type": "code",
      "source": [
        "#Importation des bib \n",
        "import pandas as pd\n",
        "import matplotlib.pyplot as plt\n",
        "import statsmodels.api as sm\n",
        "import numpy as np\n",
        "from scipy import stats"
      ],
      "metadata": {
        "id": "OzOEFvDC7idd"
      },
      "execution_count": 62,
      "outputs": []
    },
    {
      "cell_type": "code",
      "source": [
        "#Data\n",
        "data = {\"Revenu\": [8000, 9000, 9500, 9500, 9800, 11000, 12000, 13000, 15000, 16000],\n",
        "        \"Consommation\": [7389.99, 8169.65, 8831.71, 8652.84, 8788.08, 9616.21, 10593.45, 11186.11, 12758.09, 13869.62]}\n",
        "df = pd.DataFrame(data)"
      ],
      "metadata": {
        "id": "jkw-Srmv7n9s"
      },
      "execution_count": 63,
      "outputs": []
    },
    {
      "cell_type": "markdown",
      "source": [
        "Question1"
      ],
      "metadata": {
        "id": "ulFtWFOYppOa"
      }
    },
    {
      "cell_type": "code",
      "execution_count": null,
      "metadata": {
        "colab": {
          "base_uri": "https://localhost:8080/",
          "height": 472
        },
        "id": "o0Kuj6Hrk1Al",
        "outputId": "385b2ec7-1d54-443d-cc4d-7843a8bcd67d"
      },
      "outputs": [
        {
          "output_type": "display_data",
          "data": {
            "text/plain": [
              "<Figure size 640x480 with 1 Axes>"
            ],
            "image/png": "[encoded data removed]"
          },
          "metadata": {}
        }
      ],
      "source": [
        "#Tracer le nuage de points\n",
        "plt.scatter(df[\"Revenu\"], df[\"Consommation\"])\n",
        "plt.xlabel(\"Revenu\")\n",
        "plt.ylabel(\"Consommation\")\n",
        "plt.title(\"Nuage de points de la consommation en fonction du revenu\")\n",
        "plt.show()\n"
      ]
    },
    {
      "cell_type": "markdown",
      "source": [
        "Le nuage de points montre une relation positive entre le revenu et la consommation. Plus le revenu augmente, plus la consommation augmente."
      ],
      "metadata": {
        "id": "U0kv_tLep0g3"
      }
    },
    {
      "cell_type": "markdown",
      "source": [
        "Question 2: "
      ],
      "metadata": {
        "id": "Idkm_q6Kp4Yi"
      }
    },
    {
      "cell_type": "code",
      "source": [
        "import statsmodels.api as sm\n",
        "\n",
        "#Définir la variable endogène (consommation) et la variable exogène (revenu)\n",
        "y = df[\"Consommation\"]\n",
        "X = df[\"Revenu\"]\n",
        "\n",
        "#Ajouter une constante à la variable exogène pour estimer le terme constant\n",
        "X = sm.add_constant(X)\n",
        "\n",
        "#Estimer le modèle de régression linéaire par la méthode des MCO\n",
        "model = sm.OLS(y, X)\n",
        "results = model.fit()\n",
        "\n",
        "#Afficher les résultats\n",
        "print(results.summary())"
      ],
      "metadata": {
        "colab": {
          "base_uri": "https://localhost:8080/"
        },
        "id": "pdgw-2ZBow41",
        "outputId": "865cabdc-a5c9-477b-b7bc-e6e7928c3427"
      },
      "execution_count": null,
      "outputs": [
        {
          "output_type": "stream",
          "name": "stdout",
          "text": [
            "                            OLS Regression Results                            \n",
            "==============================================================================\n",
            "Dep. Variable:           Consommation   R-squared:                       0.996\n",
            "Model:                            OLS   Adj. R-squared:                  0.995\n",
            "Method:                 Least Squares   F-statistic:                     1895.\n",
            "Date:                Wed, 24 May 2023   Prob (F-statistic):           8.55e-11\n",
            "Time:                        07:22:44   Log-Likelihood:                -62.750\n",
            "No. Observations:                  10   AIC:                             129.5\n",
            "Df Residuals:                       8   BIC:                             130.1\n",
            "Df Model:                           1                                         \n",
            "Covariance Type:            nonrobust                                         \n",
            "==============================================================================\n",
            "                 coef    std err          t      P>|t|      [0.025      0.975]\n",
            "------------------------------------------------------------------------------\n",
            "const       1176.0896    207.392      5.671      0.000     697.843    1654.337\n",
            "Revenu         0.7810      0.018     43.535      0.000       0.740       0.822\n",
            "==============================================================================\n",
            "Omnibus:                        1.123   Durbin-Watson:                   1.882\n",
            "Prob(Omnibus):                  0.570   Jarque-Bera (JB):                0.857\n",
            "Skew:                           0.584   Prob(JB):                        0.651\n",
            "Kurtosis:                       2.167   Cond. No.                     5.28e+04\n",
            "==============================================================================\n",
            "\n",
            "Notes:\n",
            "[1] Standard Errors assume that the covariance matrix of the errors is correctly specified.\n",
            "[2] The condition number is large, 5.28e+04. This might indicate that there are\n",
            "strong multicollinearity or other numerical problems.\n"
          ]
        },
        {
          "output_type": "stream",
          "name": "stderr",
          "text": [
            "/usr/local/lib/python3.10/dist-packages/scipy/stats/_stats_py.py:1736: UserWarning: kurtosistest only valid for n>=20 ... continuing anyway, n=10\n",
            "  warnings.warn(\"kurtosistest only valid for n>=20 ... continuing \"\n"
          ]
        }
      ]
    },
    {
      "cell_type": "markdown",
      "source": [
        "la consommation autonome est estimé 1176.0896 euros et la propension marginale à consommer est estimée à 0.7810"
      ],
      "metadata": {
        "id": "h7MZL9oup6hB"
      }
    },
    {
      "cell_type": "markdown",
      "source": [
        "Question 3 :"
      ],
      "metadata": {
        "id": "3D7zB1k6p9vF"
      }
    },
    {
      "cell_type": "markdown",
      "source": [
        "C\"_t = 1176.0896 + Revenu * 0.7810"
      ],
      "metadata": {
        "id": "6Yx1oqRar2ES"
      }
    },
    {
      "cell_type": "markdown",
      "source": [
        "question 4"
      ],
      "metadata": {
        "id": "_KgD1iVHqz-7"
      }
    },
    {
      "cell_type": "code",
      "source": [
        "df[\"Residus\"] = results.resid\n",
        "print(\"La moyenne des résidus est :\", df[\"Residus\"].mean())"
      ],
      "metadata": {
        "colab": {
          "base_uri": "https://localhost:8080/"
        },
        "id": "fXfZl4y4q1Ff",
        "outputId": "fd6403d0-3474-4ec2-9406-b8929b847fcf"
      },
      "execution_count": null,
      "outputs": [
        {
          "output_type": "stream",
          "name": "stdout",
          "text": [
            "La moyenne des résidus est : -6.366462912410497e-13\n"
          ]
        }
      ]
    },
    {
      "cell_type": "markdown",
      "source": [
        "Question 5 "
      ],
      "metadata": {
        "id": "KwnQ0yZtq3tn"
      }
    },
    {
      "cell_type": "code",
      "source": [
        "n = len(df) \n",
        "k = len(results.params) \n",
        "sigma2 = results.ssr / (n - k) \n",
        "print(\"L'estimateur de la variance de l'erreur est :\", sigma2)"
      ],
      "metadata": {
        "colab": {
          "base_uri": "https://localhost:8080/"
        },
        "id": "N3UaQzc6q44O",
        "outputId": "247d2f6e-23a3-48cf-dd85-d9dcbe49863d"
      },
      "execution_count": null,
      "outputs": [
        {
          "output_type": "stream",
          "name": "stdout",
          "text": [
            "L'estimateur de la variance de l'erreur est : 20646.172818614796\n"
          ]
        }
      ]
    },
    {
      "cell_type": "markdown",
      "source": [
        "question 6"
      ],
      "metadata": {
        "id": "PtxJvVSLq7Z0"
      }
    },
    {
      "cell_type": "code",
      "source": [
        "t_stat = results.tvalues[\"Revenu\"] # Statistique de test t pour le coefficient du revenu\n",
        "p_value = results.pvalues[\"Revenu\"] # P-valeur associée au test t pour le coefficient du revenu\n",
        "print(\"La statistique de test t pour la pente est :\", t_stat)\n",
        "print(\"La p-valeur associée au test t pour la pente est :\", p_value)\n",
        "if p_value < 0.05:\n",
        "    print(\"On rejette l'hypothèse nulle que la pente est nulle au seuil de 5 %.\")\n",
        "else:\n",
        "    print(\"On ne peut pas rejeter l'hypothèse nulle que la pente est nulle au seuil de 5 %.\")"
      ],
      "metadata": {
        "colab": {
          "base_uri": "https://localhost:8080/"
        },
        "id": "N1-vU0wfq8vP",
        "outputId": "42fe9e5c-3685-4a4a-bf0f-6a685bc7c255"
      },
      "execution_count": null,
      "outputs": [
        {
          "output_type": "stream",
          "name": "stdout",
          "text": [
            "La statistique de test t pour la pente est : 43.53517544822133\n",
            "La p-valeur associée au test t pour la pente est : 8.54889559360952e-11\n",
            "On rejette l'hypothèse nulle que la pente est nulle au seuil de 5 %.\n"
          ]
        }
      ]
    },
    {
      "cell_type": "markdown",
      "source": [
        "question 7"
      ],
      "metadata": {
        "id": "Lq3S2O4DrBbl"
      }
    },
    {
      "cell_type": "code",
      "source": [
        "beta_hat = results.params[\"Revenu\"] # Estimation du paramètre β\n",
        "se_beta_hat = results.bse[\"Revenu\"] # Erreur standard de l'estimation du paramètre β\n",
        "alpha = 0.05 # Niveau de significativité\n",
        "t_crit = stats.t.ppf(1 - alpha/2, n - k) # Valeur critique du test t à deux queues avec n - k degrés de liberté\n",
        "ic_inf = beta_hat - t_crit * se_beta_hat # Borne inférieure de l'intervalle de confiance\n",
        "ic_sup = beta_hat + t_crit * se_beta_hat # Borne supérieure de l'intervalle de confiance\n",
        "print(\"L'intervalle de confiance au niveau de confiance de 95 % pour le paramètre β est : [\", ic_inf, \";\", ic_sup, \"]\")"
      ],
      "metadata": {
        "colab": {
          "base_uri": "https://localhost:8080/"
        },
        "id": "mApGxH_nrAu_",
        "outputId": "f5678e51-58e2-4ea5-c7a8-7e96e34df1a7"
      },
      "execution_count": null,
      "outputs": [
        {
          "output_type": "stream",
          "name": "stdout",
          "text": [
            "L'intervalle de confiance au niveau de confiance de 95 % pour le paramètre β est : [ 0.7396150598293871 ; 0.8223504305378431 ]\n"
          ]
        }
      ]
    },
    {
      "cell_type": "markdown",
      "source": [
        "question 8"
      ],
      "metadata": {
        "id": "vWo8tRvZrD3X"
      }
    },
    {
      "cell_type": "code",
      "source": [
        "r_squared = results.rsquared # Coefficient de détermination R²\n",
        "f_stat = results.fvalue # Statistique de test F pour le modèle global\n",
        "p_value_f = results.f_pvalue # P-valeur associée au test F pour le modèle global\n",
        "print(\"Le coefficient de détermination R² est :\", r_squared)\n",
        "print(\"La statistique de test F pour le modèle global est :\", f_stat)\n",
        "print(\"La p-valeur associée au test F pour le modèle global est :\", p_value_f)\n",
        "if p_value_f < 0.05:\n",
        "    print(\"On rejette l'hypothèse nulle que le modèle n'a pas d'intérêt explicatif au seuil de 5 %.\")\n",
        "else:\n",
        "    print(\"On ne peut pas rejeter l'hypothèse nulle que le modèle n'a pas d'intérêt explicatif au seuil de 5 %.\")"
      ],
      "metadata": {
        "colab": {
          "base_uri": "https://localhost:8080/"
        },
        "id": "HtNASiJ0rEl_",
        "outputId": "e69803bb-5abe-4736-8fa1-595ddce4c9c1"
      },
      "execution_count": null,
      "outputs": [
        {
          "output_type": "stream",
          "name": "stdout",
          "text": [
            "Le coefficient de détermination R² est : 0.9957967994232659\n",
            "La statistique de test F pour le modèle global est : 1895.3115013074123\n",
            "La p-valeur associée au test F pour le modèle global est : 8.548895593609554e-11\n",
            "On rejette l'hypothèse nulle que le modèle n'a pas d'intérêt explicatif au seuil de 5 %.\n"
          ]
        }
      ]
    },
    {
      "cell_type": "markdown",
      "source": [
        "Question 9 :"
      ],
      "metadata": {
        "id": "mmKCN5QHtD7c"
      }
    },
    {
      "cell_type": "code",
      "source": [
        "# Définir la variable endogène (consommation) et la variable exogène (revenu)\n",
        "y = df[\"Consommation\"]\n",
        "X = df[\"Revenu\"]\n",
        "\n",
        "#Ajouter une constante à la variable exogène pour estimer le terme constant\n",
        "X = sm.add_constant(X)\n",
        "\n",
        "#Estimer le modèle de régression linéaire par la méthode des MCO\n",
        "model = sm.OLS(y, X)\n",
        "results = model.fit()\n",
        "\n",
        "#Calculer les valeurs estimées de la consommation et les résidus\n",
        "df[\"Consommation_estimee\"] = results.predict(X)\n",
        "df[\"Residus\"] = results.resid\n",
        "\n",
        "#Calculer la moyenne de la consommation\n",
        "C_mean = df[\"Consommation\"].mean()\n",
        "\n",
        "#Calculer les sommes des carrés totale, expliquée et des résidus\n",
        "SCT = np.sum((df[\"Consommation\"] - C_mean)**2)\n",
        "SCR = np.sum((df[\"Consommation_estimee\"] - C_mean)**2)\n",
        "SCE = np.sum(df[\"Residus\"]**2)\n",
        "\n",
        "#Vérifier l'équation d'analyse de la variance\n",
        "print(\"SCT =\", SCT)\n",
        "print(\"SCR =\", SCR)\n",
        "print(\"SCE =\", SCE)\n",
        "print(\"SCT - SCR - SCE =\", SCT - SCR - SCE)"
      ],
      "metadata": {
        "colab": {
          "base_uri": "https://localhost:8080/"
        },
        "id": "lrmosb0ptFnp",
        "outputId": "93c1d13d-ff26-4456-9347-1b853de68a7f"
      },
      "execution_count": null,
      "outputs": [
        {
          "output_type": "stream",
          "name": "stdout",
          "text": [
            "SCT = 39296098.18365002\n",
            "SCR = 39130928.80110109\n",
            "SCE = 165169.38254891834\n",
            "SCT - SCR - SCE = 9.924406185746193e-09\n"
          ]
        }
      ]
    },
    {
      "cell_type": "markdown",
      "source": [
        "Ces résultats confirment l’équation d’analyse de la variance :\n",
        "SCT=SCR+SCE\n",
        "On peut voir que la somme des carrés expliquée par la régression (SCR) est très proche de la somme des carrés totale (SCT), ce qui signifie que le modèle explique presque toute la variation de la consommation. La somme des carrés des résidus (SCE) est très faible, ce qui signifie que les erreurs de prédiction sont très petites."
      ],
      "metadata": {
        "id": "De4Fvi7SuUvm"
      }
    },
    {
      "cell_type": "markdown",
      "source": [
        "EXERCICE N 2 "
      ],
      "metadata": {
        "id": "Y0z4QlL5u2gC"
      }
    },
    {
      "cell_type": "markdown",
      "source": [
        "Partie A"
      ],
      "metadata": {
        "id": "635y7C3sygpp"
      }
    },
    {
      "cell_type": "code",
      "source": [
        "#Bibliotheque\n",
        "from scipy.stats import f\n",
        "import numpy as np"
      ],
      "metadata": {
        "id": "w9FTLJUO1CFe"
      },
      "execution_count": null,
      "outputs": []
    },
    {
      "cell_type": "code",
      "source": [
        "#DATA\n",
        "Y = np.array([1, 4, 1, 3, 2, 4])\n",
        "X1 = np.array([1, 8, 3, 5, 6, 10])\n",
        "X2 = np.array([2, 8, 1, 7, 4, 6])"
      ],
      "metadata": {
        "id": "Ym-tSP3L1KAj"
      },
      "execution_count": 51,
      "outputs": []
    },
    {
      "cell_type": "markdown",
      "source": [
        "Question 1"
      ],
      "metadata": {
        "id": "BMi5nnFeylF4"
      }
    },
    {
      "cell_type": "code",
      "source": [
        "X = np.column_stack((np.ones(len(Y)), X1, X2))\n",
        "Y = Y.reshape(-1, 1)\n",
        "# Dimensions des vecteurs et des matrices\n",
        "print(f\"Dimensions de Y : {Y.shape}\")\n",
        "print(f\"Dimensions de X : {X.shape}\")\n"
      ],
      "metadata": {
        "id": "qrFnhRnwu40N",
        "colab": {
          "base_uri": "https://localhost:8080/"
        },
        "outputId": "5a1a7fa9-b993-4738-c133-581e2bf1fa09"
      },
      "execution_count": 56,
      "outputs": [
        {
          "output_type": "stream",
          "name": "stdout",
          "text": [
            "Dimensions de Y : (6, 1)\n",
            "Dimensions de X : (6, 3)\n"
          ]
        }
      ]
    },
    {
      "cell_type": "markdown",
      "source": [
        "Question 2"
      ],
      "metadata": {
        "id": "U4_eP9xzxt-F"
      }
    },
    {
      "cell_type": "code",
      "source": [
        "model = sm.OLS(Y, X)\n",
        "results = model.fit()\n",
        "beta = results.params\n",
        "print(\"Paramètres du modèle :\", beta)"
      ],
      "metadata": {
        "colab": {
          "base_uri": "https://localhost:8080/"
        },
        "id": "jaTy9_vcx7yO",
        "outputId": "041baeac-b107-46d3-da8e-c87d9280c999"
      },
      "execution_count": 57,
      "outputs": [
        {
          "output_type": "stream",
          "name": "stdout",
          "text": [
            "Paramètres du modèle : [0.06397188 0.20492091 0.28049209]\n"
          ]
        }
      ]
    },
    {
      "cell_type": "markdown",
      "source": [
        "Question 3"
      ],
      "metadata": {
        "id": "olDf0tFTxxUk"
      }
    },
    {
      "cell_type": "code",
      "source": [
        "residus = results.resid\n",
        "variance_erreurs = np.var(residus)\n",
        "print(\"Estimation de la variance des erreurs :\", variance_erreurs)"
      ],
      "metadata": {
        "colab": {
          "base_uri": "https://localhost:8080/"
        },
        "id": "3y_KenalyMtC",
        "outputId": "b06a8391-0bce-4446-844d-df614d67622a"
      },
      "execution_count": 58,
      "outputs": [
        {
          "output_type": "stream",
          "name": "stdout",
          "text": [
            "Estimation de la variance des erreurs : 0.04171060339777388\n"
          ]
        }
      ]
    },
    {
      "cell_type": "markdown",
      "source": [
        "Question 4"
      ],
      "metadata": {
        "id": "br8rGXy9xy6l"
      }
    },
    {
      "cell_type": "code",
      "source": [
        "R2 = results.rsquared\n",
        "RMSE = np.sqrt(np.mean(residus**2))\n",
        "print(\"Coefficient de détermination multiple R2 :\", R2)\n",
        "print(\"Erreur RMSE :\", RMSE)"
      ],
      "metadata": {
        "colab": {
          "base_uri": "https://localhost:8080/"
        },
        "id": "HdooZt_3yWHf",
        "outputId": "09d2c3de-076d-4564-e52c-47d596807c46"
      },
      "execution_count": 59,
      "outputs": [
        {
          "output_type": "stream",
          "name": "stdout",
          "text": [
            "Coefficient de détermination multiple R2 : 0.9736564610119323\n",
            "Erreur RMSE : 0.2042317394475547\n"
          ]
        }
      ]
    },
    {
      "cell_type": "markdown",
      "source": [
        "Question 5"
      ],
      "metadata": {
        "id": "6zE19u4Px1QT"
      }
    },
    {
      "cell_type": "code",
      "source": [
        "n = len(Y)\n",
        "k = X.shape[1] - 1\n",
        "R2_ajuste = 1 - (1 - R2) * ((n - 1) / (n - k - 1))\n",
        "print(\"R2 ajusté :\", R2_ajuste)"
      ],
      "metadata": {
        "colab": {
          "base_uri": "https://localhost:8080/"
        },
        "id": "FanDSO5ux2wd",
        "outputId": "b92617dc-ed4c-40e7-909a-a41057447ff5"
      },
      "execution_count": 60,
      "outputs": [
        {
          "output_type": "stream",
          "name": "stdout",
          "text": [
            "R2 ajusté : 0.9560941016865537\n"
          ]
        }
      ]
    },
    {
      "cell_type": "markdown",
      "source": [
        "Partie B"
      ],
      "metadata": {
        "id": "g1tpxHfPyqSH"
      }
    },
    {
      "cell_type": "markdown",
      "source": [
        "Question 1 "
      ],
      "metadata": {
        "id": "Z8HKKbjazKEa"
      }
    },
    {
      "cell_type": "code",
      "source": [
        "p_values = results.pvalues[1:]\n",
        "if all(p < 0.05 for p in p_values):\n",
        "    print(\"Les variables explicatives X1 et X2 sont significativement contributives pour expliquer Yt.\")\n",
        "else:\n",
        "    print(\"Les variables explicatives X1 et X2 ne sont pas significativement contributives pour expliquer Yt.\")"
      ],
      "metadata": {
        "colab": {
          "base_uri": "https://localhost:8080/"
        },
        "id": "SlriFL2kyqtW",
        "outputId": "93805984-7625-4ef1-87de-a032a8ce1cfe"
      },
      "execution_count": null,
      "outputs": [
        {
          "output_type": "stream",
          "name": "stdout",
          "text": [
            "Les variables explicatives X1 et X2 sont significativement contributives pour expliquer Yt.\n"
          ]
        }
      ]
    },
    {
      "cell_type": "markdown",
      "source": [
        "Question 2"
      ],
      "metadata": {
        "id": "Q0v8XF_h1Sup"
      }
    },
    {
      "cell_type": "code",
      "source": [
        "f_stat = (R2 / k) / ((1 - R2) / (n - k - 1))\n",
        "p_value_f = 1 - f.cdf(f_stat, k, n - k - 1)\n",
        "if p_value_f < 0.05:\n",
        "    print(\"Le modèle de régression multivariée est significatif.\")\n",
        "else:\n",
        "    print(\"Le modèle de régression multivariée n'est pas significatif.\")"
      ],
      "metadata": {
        "colab": {
          "base_uri": "https://localhost:8080/"
        },
        "id": "oPAuEhai0h9D",
        "outputId": "9a8976a7-2d67-4422-cf3a-5f29c330bac9"
      },
      "execution_count": null,
      "outputs": [
        {
          "output_type": "stream",
          "name": "stdout",
          "text": [
            "Le modèle de régression multivariée est significatif.\n"
          ]
        }
      ]
    },
    {
      "cell_type": "markdown",
      "source": [
        "Question 3\n"
      ],
      "metadata": {
        "id": "ZOtoG2eB1PmA"
      }
    },
    {
      "cell_type": "code",
      "source": [
        "X_n = np.array([1, 2, 8])\n",
        "Y_n = np.dot(X_new, beta)\n",
        "print(\"La valeur de Yt pour X1=2 et X2=8 est :\", Y_n)"
      ],
      "metadata": {
        "colab": {
          "base_uri": "https://localhost:8080/"
        },
        "id": "UHAJXWMC023b",
        "outputId": "24610d5e-93f1-4073-ea7f-fcef38727044"
      },
      "execution_count": 46,
      "outputs": [
        {
          "output_type": "stream",
          "name": "stdout",
          "text": [
            "La valeur de Yt pour X1=2 et X2=8 est : 2.717750439367311\n"
          ]
        }
      ]
    },
    {
      "cell_type": "markdown",
      "source": [
        "Question 4"
      ],
      "metadata": {
        "id": "-_OAf4Xt6tdA"
      }
    },
    {
      "cell_type": "markdown",
      "source": [
        "Pour améliorer le modèle de régression, voici quelques idées :\n",
        "\n",
        "Ajouter d'autres variables explicatives \n",
        "\n",
        "Vérifier les hypothèses des moindres carrés ordinaires (MCO) \n",
        "\n",
        "Évaluer l'ajustement du modèle : Utilisez  le coefficient de détermination (R²) ou l'erreur quadratique moyenne (RMSE) \n",
        "\n"
      ],
      "metadata": {
        "id": "k9rh8GiB6v7B"
      }
    }
  ]
}